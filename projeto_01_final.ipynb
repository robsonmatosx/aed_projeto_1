{
  "nbformat": 4,
  "nbformat_minor": 0,
  "metadata": {
    "file_extension": ".py",
    "kernelspec": {
      "display_name": "Python 3",
      "language": "python",
      "name": "python3"
    },
    "language_info": {
      "codemirror_mode": {
        "name": "ipython",
        "version": 3
      },
      "file_extension": ".py",
      "mimetype": "text/x-python",
      "name": "python",
      "nbconvert_exporter": "python",
      "pygments_lexer": "ipython3",
      "version": "3.7.4"
    },
    "mimetype": "text/x-python",
    "name": "python",
    "npconvert_exporter": "python",
    "pygments_lexer": "ipython3",
    "version": 3,
    "colab": {
      "name": "projeto_01_final.ipynb",
      "provenance": [],
      "collapsed_sections": [],
      "include_colab_link": true
    }
  },
  "cells": [
    {
      "cell_type": "markdown",
      "metadata": {
        "id": "view-in-github",
        "colab_type": "text"
      },
      "source": [
        "<a href=\"https://colab.research.google.com/github/robsonmatosx/aed_projeto_1/blob/master/projeto_01_final.ipynb\" target=\"_parent\"><img src=\"https://colab.research.google.com/assets/colab-badge.svg\" alt=\"Open In Colab\"/></a>"
      ]
    },
    {
      "cell_type": "markdown",
      "metadata": {
        "id": "03F61mouYm1S",
        "colab_type": "text"
      },
      "source": [
        "# Projeto #1 - Análise Exploratória de Dados\n",
        "\n",
        "Antes de começar, leia as [Instruções](https://github.com/thvmm/pos-ds-ia/tree/master/projeto_1#instru%C3%A7%C3%B5es) e os [Critérios de Avaliação](https://github.com/thvmm/pos-ds-ia/tree/master/projeto_1#crit%C3%A9rios-de-avalia%C3%A7%C3%A3o)\n"
      ]
    },
    {
      "cell_type": "markdown",
      "metadata": {
        "id": "pAgOh4gSYm1V",
        "colab_type": "text"
      },
      "source": [
        "### 1) **(5%)** Qual a base escolhida e qual seu interesse nela?"
      ]
    },
    {
      "cell_type": "markdown",
      "metadata": {
        "id": "SAzlxBpWY9qQ",
        "colab_type": "text"
      },
      "source": [
        "A base escolhida foi a vgsales ([vgsales](https://www.kaggle.com/kedokedokedo/vgsales))<br>\n",
        "Escolha uma base voltado para as vendas de titulos de games. Escolhi esse tema por eu estar diretamente ligado a geração consumista de consoles e ter passado pela era de ouro dos video-games."
      ]
    },
    {
      "cell_type": "markdown",
      "metadata": {
        "id": "1J-SppY_Ym1X",
        "colab_type": "text"
      },
      "source": [
        "### 2) **(5%)** Descrição básica do conjunto de dados escolhido pelo aluno (1 parágrafo).\n",
        "- Identificação da variável a serem trabalhadas\n",
        "- Classificação das variáveis como: contínua ou discreta.\n"
      ]
    },
    {
      "cell_type": "markdown",
      "metadata": {
        "id": "LB0Bn1uqYm1X",
        "colab_type": "text"
      },
      "source": [
        "Variáveis discretas: Ano<br>\n",
        "Variáveis contínuas: Vendas América do Norte, Vendas Europa, Vendas Japão, Outras Vendas, Vendas Globais<br>\n",
        "Variáveis categoricas:  Plataforma, Gênero, Editora<br>\n",
        "\n"
      ]
    },
    {
      "cell_type": "markdown",
      "metadata": {
        "id": "NjXIKXQ-Ym1Y",
        "colab_type": "text"
      },
      "source": [
        "### 3) **(15%)** Faça uma avaliação descritiva da sua base. Quantas linhas ela possui? Quais os tipos de dados? Quantas e quais features possuem?\n",
        "\n",
        "Cada variável escolhida pelo aluno precisa passar por ao menos 1 pré-processamento. O pré-processamento pode ser (mas não está limitado a):\n",
        "- Checagem se os valores estão dentro de um limite permitido ou razoável.\n",
        "- Tratamento de valores ausentes por eliminação ou substituição.\n",
        "- Conversão do tipo de dados.\n"
      ]
    },
    {
      "cell_type": "markdown",
      "metadata": {
        "id": "21i6xV-Td7PP",
        "colab_type": "text"
      },
      "source": [
        "A base possui 16324 registros  e 11 colunas Destas serão utilizadas 9 para compor a base de análise. "
      ]
    },
    {
      "cell_type": "code",
      "metadata": {
        "id": "o3_j5fH9Ym1Z",
        "colab_type": "code",
        "colab": {}
      },
      "source": [
        "import pandas as pd \n",
        "import numpy as np \n",
        "import matplotlib.pyplot as plt\n",
        "import seaborn as sns\n",
        "plt.style.use('ggplot')\n",
        "import matplotlib.patches as mpatches"
      ],
      "execution_count": 0,
      "outputs": []
    },
    {
      "cell_type": "code",
      "metadata": {
        "id": "OtxFo1NEd7mk",
        "colab_type": "code",
        "colab": {}
      },
      "source": [
        "#----------- import via upload ----------------- \n",
        "# from google.colab import files\n",
        "# uploaded = files.upload()\n",
        "# import io\n",
        "# df = pd.read_csv(io.BytesIO(uploaded['vgsales.csv']))\n",
        "# ------------fim -upload ------------------------\n",
        "\n",
        "# ----------- impor via raw git hub -----------------------------\n",
        "url = \"https://raw.githubusercontent.com/robsonmatosx/aed_projeto_1/master/vgsales.csv?token=ANX2SUZ5N5ARI52OMEPURYK55GKF4\"\n",
        "df = pd.read_csv(url)\n",
        "# -----------  fim --- impor via raw git hub -----------------------------"
      ],
      "execution_count": 0,
      "outputs": []
    },
    {
      "cell_type": "code",
      "metadata": {
        "id": "zEcEZ7Gzernr",
        "colab_type": "code",
        "outputId": "132790e6-9625-42bc-d91c-80758121f6ec",
        "colab": {
          "base_uri": "https://localhost:8080/",
          "height": 197
        }
      },
      "source": [
        "#escolha das features e identificação de tipos\n",
        "df.columns = ['Ranking', 'Nome', 'Plataforma', 'Ano', 'Gênero', 'Editora', 'Vendas América do Norte', 'Vendas Europa', 'Vendas Japão', 'Outras Vendas', 'Vendas Globais']\n",
        "escolha_features = ['Plataforma', 'Ano', 'Gênero', 'Editora', 'Vendas América do Norte', 'Vendas Europa', 'Vendas Japão', 'Outras Vendas', 'Vendas Globais']\n",
        "df=df[escolha_features]\n",
        "print(df.dtypes)"
      ],
      "execution_count": 0,
      "outputs": [
        {
          "output_type": "stream",
          "text": [
            "Plataforma                  object\n",
            "Ano                        float64\n",
            "Gênero                      object\n",
            "Editora                     object\n",
            "Vendas América do Norte    float64\n",
            "Vendas EUA                 float64\n",
            "Vendas Japão               float64\n",
            "Outras Vendas              float64\n",
            "Vendas Globais             float64\n",
            "dtype: object\n"
          ],
          "name": "stdout"
        }
      ]
    },
    {
      "cell_type": "code",
      "metadata": {
        "id": "tdPb4h9tgPWD",
        "colab_type": "code",
        "outputId": "b41c1964-dc4b-47e3-8620-56d4eb772895",
        "colab": {
          "base_uri": "https://localhost:8080/",
          "height": 235
        }
      },
      "source": [
        "# análises valores mínimos e máximos\n",
        "\n",
        "v_dados={\n",
        "    'Mínimo':[min(df['Ano']),min(df['Vendas América do Norte']),min(df['Vendas Europa']),min(df['Vendas Japão']),min(df['Outras Vendas']),min(df['Vendas Globais'])],\n",
        "    'Máximo':[max(df['Ano']),max(df['Vendas América do Norte']),max(df['Vendas Europa']),max(df['Vendas Japão']),max(df['Outras Vendas']),max(df['Vendas Globais'])]\n",
        "    }\n",
        "valores=pd.DataFrame(v_dados, index=['Ano', 'Vendas América do Norte', 'Vendas Europa', 'Vendas Japão', 'Outras Vendas', 'Vendas Globais'])\n",
        "valores"
      ],
      "execution_count": 0,
      "outputs": [
        {
          "output_type": "execute_result",
          "data": {
            "text/html": [
              "<div>\n",
              "<style scoped>\n",
              "    .dataframe tbody tr th:only-of-type {\n",
              "        vertical-align: middle;\n",
              "    }\n",
              "\n",
              "    .dataframe tbody tr th {\n",
              "        vertical-align: top;\n",
              "    }\n",
              "\n",
              "    .dataframe thead th {\n",
              "        text-align: right;\n",
              "    }\n",
              "</style>\n",
              "<table border=\"1\" class=\"dataframe\">\n",
              "  <thead>\n",
              "    <tr style=\"text-align: right;\">\n",
              "      <th></th>\n",
              "      <th>Mínimo</th>\n",
              "      <th>Máximo</th>\n",
              "    </tr>\n",
              "  </thead>\n",
              "  <tbody>\n",
              "    <tr>\n",
              "      <th>Ano</th>\n",
              "      <td>1980.00</td>\n",
              "      <td>2020.00</td>\n",
              "    </tr>\n",
              "    <tr>\n",
              "      <th>Vendas América do Norte</th>\n",
              "      <td>0.00</td>\n",
              "      <td>41.49</td>\n",
              "    </tr>\n",
              "    <tr>\n",
              "      <th>Vendas EUA</th>\n",
              "      <td>0.00</td>\n",
              "      <td>29.02</td>\n",
              "    </tr>\n",
              "    <tr>\n",
              "      <th>Vendas Japão</th>\n",
              "      <td>0.00</td>\n",
              "      <td>10.22</td>\n",
              "    </tr>\n",
              "    <tr>\n",
              "      <th>Outras Vendas</th>\n",
              "      <td>0.00</td>\n",
              "      <td>10.57</td>\n",
              "    </tr>\n",
              "    <tr>\n",
              "      <th>Vendas Globais</th>\n",
              "      <td>0.01</td>\n",
              "      <td>82.74</td>\n",
              "    </tr>\n",
              "  </tbody>\n",
              "</table>\n",
              "</div>"
            ],
            "text/plain": [
              "                          Mínimo   Máximo\n",
              "Ano                      1980.00  2020.00\n",
              "Vendas América do Norte     0.00    41.49\n",
              "Vendas EUA                  0.00    29.02\n",
              "Vendas Japão                0.00    10.22\n",
              "Outras Vendas               0.00    10.57\n",
              "Vendas Globais              0.01    82.74"
            ]
          },
          "metadata": {
            "tags": []
          },
          "execution_count": 74
        }
      ]
    },
    {
      "cell_type": "code",
      "metadata": {
        "id": "e1Gwdmfefvbg",
        "colab_type": "code",
        "outputId": "f0c60abd-4d2e-46af-94c7-0b4b8411d365",
        "colab": {
          "base_uri": "https://localhost:8080/",
          "height": 431
        }
      },
      "source": [
        "#Tratamento valores ausentes\n",
        "\n",
        "print(df.isnull().sum()) \n",
        "\n",
        "\n",
        "df[df['Ano'].isnull()]['Vendas Globais'].sum() # as vendas com ano nulo serão alocadas na Min(ano)-1 devido a expressividade dos dados\n",
        "df[df['Editora'].isnull()]['Vendas Globais'].sum()  # as vendas com a Editora nulas serão alocadas numa nova editora [desconhecida]\n",
        "\n",
        "df['Ano'].fillna(df['Ano'].min()-1,inplace=True) # Resgatando os dados de vendas e atribuindo/substituindo os valores nulos para o (Ano mínimo -1) no caso 1979 \n",
        "\n",
        "df['Editora'][(df['Editora'].isna()) & (df['Plataforma']=='GBA')]='Nintendo'\n",
        "df['Editora'][(df['Editora'].isna()) & (df['Plataforma']=='Wii')]='Nintendo'\n",
        "df['Editora'][(df['Editora'].isna()) & (df['Plataforma']=='DS')]='Nintendo'\n",
        "df['Editora'][(df['Editora'].isna()) & (df['Plataforma']=='3DS')]='Nintendo'\n",
        "\n",
        "df['Editora'][(df['Editora'].isna()) & (df['Plataforma']=='PS')]='Sony Computer Entertainment'\n",
        "df['Editora'][(df['Editora'].isna()) & (df['Plataforma']=='PS2')]='Sony Computer Entertainment'\n",
        "df['Editora'][(df['Editora'].isna()) & (df['Plataforma']=='PS3')]='Sony Computer Entertainment'\n",
        "df['Editora'][(df['Editora'].isna()) & (df['Plataforma']=='PSV')]='Sony Computer Entertainment'\n",
        "df['Editora'][(df['Editora'].isna()) & (df['Plataforma']=='PSP')]=='Sony Computer Entertainment'\n",
        "\n",
        "df['Editora'][(df['Editora'].isna()) & (df['Plataforma']=='X360')]='Microsoft Game Studios'\n",
        "\n",
        "#retira dados de 2017 a 2020 - somente registros poluidos da base / incompletos\n",
        "if (df[df['Ano'] >2016].index.size)>0: \n",
        "  df.drop(df[df['Ano'] >2016].index,inplace=True)\n",
        "  print('>>> registros apagados')\n",
        "\n",
        "df = df.dropna(how='any',axis=0)  #retirando demais valores nulos caso ainda existam\n",
        "\n",
        "print('\\n\\nNova analise de nulls:\\n',df.isnull().sum())  #avaliando registros nulos novamente"
      ],
      "execution_count": 0,
      "outputs": [
        {
          "output_type": "stream",
          "text": [
            "Plataforma                 0\n",
            "Ano                        0\n",
            "Gênero                     0\n",
            "Editora                    8\n",
            "Vendas América do Norte    0\n",
            "Vendas EUA                 0\n",
            "Vendas Japão               0\n",
            "Outras Vendas              0\n",
            "Vendas Globais             0\n",
            "dtype: int64\n",
            "\n",
            "\n",
            "Nova analise de nulls:\n",
            " Plataforma                 0\n",
            "Ano                        0\n",
            "Gênero                     0\n",
            "Editora                    0\n",
            "Vendas América do Norte    0\n",
            "Vendas EUA                 0\n",
            "Vendas Japão               0\n",
            "Outras Vendas              0\n",
            "Vendas Globais             0\n",
            "dtype: int64\n"
          ],
          "name": "stdout"
        }
      ]
    },
    {
      "cell_type": "code",
      "metadata": {
        "id": "-QnvHVcckqct",
        "colab_type": "code",
        "colab": {}
      },
      "source": [
        "# Converão de tipos\n",
        "df['Ano'] = df['Ano'].astype(int) #convertendo ano float para int"
      ],
      "execution_count": 0,
      "outputs": []
    },
    {
      "cell_type": "markdown",
      "metadata": {
        "id": "TZeAJhQpYm1b",
        "colab_type": "text"
      },
      "source": [
        "### 4) **(60%)** Nos blocos seguintes construa análises que vão justificar suas conclusões."
      ]
    },
    {
      "cell_type": "markdown",
      "metadata": {
        "id": "M9zi4S8eYm1c",
        "colab_type": "text"
      },
      "source": [
        "#### 4.1) **(20%)** Análise 1 -  Distribuição dos valores para cada uma das variáveis\n",
        "- Exemplo para variável contínua: se o conjunto de dados possui a variável \"idade\". Quantos % possui a idade entre 0 e 30 anos? 31 a 59? 60+?\n",
        "\n",
        "- Exemplo para variável discreta: se o conjunto de dados possui a variável \"gênero\", quantos % do conjunto de dados é do sexo feminino, quantos % é masculino? Inclua outros gêneros se houver.\n"
      ]
    },
    {
      "cell_type": "code",
      "metadata": {
        "id": "nBqoYz-JYm1c",
        "colab_type": "code",
        "outputId": "e302989e-8753-4520-f50e-18dbc9d93d99",
        "colab": {
          "base_uri": "https://localhost:8080/",
          "height": 764
        }
      },
      "source": [
        "#genero com mais jogos lançados\n",
        "genero = df.groupby(\"Gênero\").size()\n",
        "genero.sort_values(ascending=True).plot(kind='bar', color='green',figsize=(10,4)) \n",
        "plt.ylabel('Qtdade de Jogos')\n",
        "plt.title('Quantidade de jogos x Gênero')\n",
        "green_patch = mpatches.Patch(color='green', label='Quantidade de jogos lançados')\n",
        "plt.legend(handles=[green_patch])\n",
        "plt.grid(None)\n",
        "plt.show()\n",
        "explode = (0.1, 0, 0, 0,0,0,0,0,0,0,0,0)\n",
        "gernero_percentual = df['Gênero'].value_counts(normalize=True)*100\n",
        "gernero_percentual.plot(kind='pie',figsize=(7,7), explode=explode, autopct='%1.1f%%')\n",
        "plt.title('Percentual de jogos x Gênero')\n",
        "itemlist = []\n",
        "for item in genero:\n",
        "    itemlist.append(item)"
      ],
      "execution_count": 0,
      "outputs": [
        {
          "output_type": "display_data",
          "data": {
            "image/png": "[encoded data removed]",
            "text/plain": [
              "<Figure size 720x288 with 1 Axes>"
            ]
          },
          "metadata": {
            "tags": []
          }
        },
        {
          "output_type": "display_data",
          "data": {
            "image/png": "[encoded data removed]",
            "text/plain": [
              "<Figure size 504x504 with 1 Axes>"
            ]
          },
          "metadata": {
            "tags": []
          }
        }
      ]
    },
    {
      "cell_type": "code",
      "metadata": {
        "id": "Co7o2PvsnFEF",
        "colab_type": "code",
        "outputId": "c618600b-5eba-4b50-de97-81483f780b18",
        "colab": {
          "base_uri": "https://localhost:8080/",
          "height": 710
        }
      },
      "source": [
        "# plataforma com jogos mais vendidos (unidades)\n",
        "df.groupby(\"Plataforma\")[\"Vendas Globais\"].sum().sort_values(ascending=False).head(10).plot(kind=\"bar\",figsize=(10,4))\n",
        "plt.ylabel('Qtdade Vendas (Milhões)')\n",
        "plt.title('Top 10 plataformas x Qtdade Vendida')\n",
        "red_patch = mpatches.Patch(color='red', label='Qtdade de jogos vendido')\n",
        "blue_patch = mpatches.Patch(color='blue', label='Qtdade de jogos lançados')\n",
        "plt.legend(handles=[red_patch,blue_patch])\n",
        "genero_perc = df['Plataforma'].value_counts().head(10).plot(secondary_y=True, color='blue')\n",
        "plt.ylabel('Jogos lançados (milhares)')\n",
        "\n",
        "plt.grid(None)\n",
        "l,r = plt.xlim()\n",
        "plt.xlim(l-0.5,r+0.5)\n",
        "plt.show()\n",
        "\n",
        "explode = (0.1,0,0,0,0,0,0,0,0,0)\n",
        "genero_perc = df['Plataforma'].value_counts(normalize=True)*100\n",
        "genero_perc.head(10).plot(kind='pie',figsize=(7,7),  autopct='%1.1f%%')\n",
        "plt.title('Top10 - Plataforma x Qtdade jogos lançados (%)')\n",
        "\n",
        "itemlist = []\n",
        "for item in genero:\n",
        "    itemlist.append(item)\n",
        "# print(genero_perc.head(10))"
      ],
      "execution_count": 0,
      "outputs": [
        {
          "output_type": "display_data",
          "data": {
            "image/png": "[encoded data removed]",
            "text/plain": [
              "<Figure size 720x288 with 2 Axes>"
            ]
          },
          "metadata": {
            "tags": []
          }
        },
        {
          "output_type": "display_data",
          "data": {
            "image/png": "[encoded data removed]",
            "text/plain": [
              "<Figure size 504x504 with 1 Axes>"
            ]
          },
          "metadata": {
            "tags": []
          }
        }
      ]
    },
    {
      "cell_type": "code",
      "metadata": {
        "id": "gorUKRPavfZP",
        "colab_type": "code",
        "outputId": "21559d10-8c42-4805-c90a-c2724bd5fa9a",
        "colab": {
          "base_uri": "https://localhost:8080/",
          "height": 429
        }
      },
      "source": [
        "# Regigão de maior unidades vendidas\n",
        "regiao_globais=df[\"Vendas Globais\"].sum()\n",
        "regiao_eua=(df[\"Vendas Europa\"].sum()/regiao_globais)*100\n",
        "regiao_amn=(df[\"Vendas América do Norte\"].sum()/regiao_globais)*100\n",
        "regiao_japao=(df[\"Vendas Japão\"].sum()/regiao_globais)*100\n",
        "regiao_outras=(df[\"Outras Vendas\"].sum()/regiao_globais)*100\n",
        "\n",
        "data = {'Região':[regiao_eua,regiao_amn, regiao_japao, regiao_outras]}\n",
        "legenda = ['Vendas Europa','Vendas América do Norte','Vendas Japão','Outras Vendas']\n",
        "grf = pd.DataFrame(data, index=legenda)\n",
        "grf['Região'].plot(kind='pie', figsize=(7,7), autopct='%1.1f%%',pctdistance=0.8, shadow=True,startangle=-115)\n",
        "# plt.title(\"Unidades vendidas x Região\")\n",
        "# plt.ylabel('Total (milhões)')\n",
        "# plt.plot(legenda,data['teste'])\n",
        "# plt.show()\n"
      ],
      "execution_count": 0,
      "outputs": [
        {
          "output_type": "execute_result",
          "data": {
            "text/plain": [
              "<matplotlib.axes._subplots.AxesSubplot at 0x7fbe64d053c8>"
            ]
          },
          "metadata": {
            "tags": []
          },
          "execution_count": 196
        },
        {
          "output_type": "display_data",
          "data": {
            "image/png": "[encoded data removed]",
            "text/plain": [
              "<Figure size 504x504 with 1 Axes>"
            ]
          },
          "metadata": {
            "tags": []
          }
        }
      ]
    },
    {
      "cell_type": "code",
      "metadata": {
        "id": "x6syWtGVzX0n",
        "colab_type": "code",
        "outputId": "a410cc4c-2007-40e9-e120-93d292baa86a",
        "colab": {
          "base_uri": "https://localhost:8080/",
          "height": 337
        }
      },
      "source": [
        "# Vendas anuais\n",
        "ano_tratada = df[df[u'Ano']!=1979] #retirando titulos de 1979 pois foi preenchido com valores que antes estavam nulos . \n",
        "result=ano_tratada.sort_values(\"Ano\",ascending=False)\n",
        "anos_vendas=result.groupby('Ano')['Vendas Globais'].sum()\n",
        "anos_vendas.plot(figsize=(10,5),kind='line')\n",
        "plt.show()\n"
      ],
      "execution_count": 0,
      "outputs": [
        {
          "output_type": "display_data",
          "data": {
            "image/png": "[encoded data removed]",
            "text/plain": [
              "<Figure size 720x360 with 1 Axes>"
            ]
          },
          "metadata": {
            "tags": []
          }
        }
      ]
    },
    {
      "cell_type": "markdown",
      "metadata": {
        "id": "vNvUrQaQYm1e",
        "colab_type": "text"
      },
      "source": [
        "#### 4.2) **(20%)** Análise 2 - Dependência entre variáveis\n",
        "O aluno deve apresentar as mesmas distribuições para cada valor da variável dependente. Exemplo: Em um conjunto de dados em que as variáveis independentes são idade e sexo, e a variável dependente é renda. O aluno pode dividir a renda em 3 \"grupos\", <1000 reais, entre 1000 e 10000 reais e >1000 reais. Para cada um desses grupos, é necessário apresentar a distribuição das variáveis \"idade\" e \"sexo\".\n"
      ]
    },
    {
      "cell_type": "code",
      "metadata": {
        "id": "hFOyzAJjYm1f",
        "colab_type": "code",
        "outputId": "771b5d74-d011-4fba-f0b5-423655e6275b",
        "colab": {
          "base_uri": "https://localhost:8080/",
          "height": 390
        }
      },
      "source": [
        "# lançamentos de jogos Plataforma x Ano\n",
        "res_2000_2005 = df[(df.Ano >=2000) & (df.Ano <= 2005)]\n",
        "plataforma_ano = pd.crosstab(res_2000_2005['Plataforma'],res_2000_2005['Ano'])\n",
        "plataforma_ano['Total'] = plataforma_ano.sum(axis=1)\n",
        "plataforma_ano = plataforma_ano.sort_values('Total', ascending=False)\n",
        "plataforma_ano.head(10)\n",
        "\n"
      ],
      "execution_count": 0,
      "outputs": [
        {
          "output_type": "execute_result",
          "data": {
            "text/html": [
              "<div>\n",
              "<style scoped>\n",
              "    .dataframe tbody tr th:only-of-type {\n",
              "        vertical-align: middle;\n",
              "    }\n",
              "\n",
              "    .dataframe tbody tr th {\n",
              "        vertical-align: top;\n",
              "    }\n",
              "\n",
              "    .dataframe thead th {\n",
              "        text-align: right;\n",
              "    }\n",
              "</style>\n",
              "<table border=\"1\" class=\"dataframe\">\n",
              "  <thead>\n",
              "    <tr style=\"text-align: right;\">\n",
              "      <th>Ano</th>\n",
              "      <th>2000</th>\n",
              "      <th>2001</th>\n",
              "      <th>2002</th>\n",
              "      <th>2003</th>\n",
              "      <th>2004</th>\n",
              "      <th>2005</th>\n",
              "      <th>Total</th>\n",
              "    </tr>\n",
              "    <tr>\n",
              "      <th>Plataforma</th>\n",
              "      <th></th>\n",
              "      <th></th>\n",
              "      <th></th>\n",
              "      <th></th>\n",
              "      <th></th>\n",
              "      <th></th>\n",
              "      <th></th>\n",
              "    </tr>\n",
              "  </thead>\n",
              "  <tbody>\n",
              "    <tr>\n",
              "      <th>PS2</th>\n",
              "      <td>82</td>\n",
              "      <td>185</td>\n",
              "      <td>280</td>\n",
              "      <td>256</td>\n",
              "      <td>259</td>\n",
              "      <td>260</td>\n",
              "      <td>2644</td>\n",
              "    </tr>\n",
              "    <tr>\n",
              "      <th>GBA</th>\n",
              "      <td>1</td>\n",
              "      <td>107</td>\n",
              "      <td>198</td>\n",
              "      <td>150</td>\n",
              "      <td>175</td>\n",
              "      <td>135</td>\n",
              "      <td>1532</td>\n",
              "    </tr>\n",
              "    <tr>\n",
              "      <th>XB</th>\n",
              "      <td>1</td>\n",
              "      <td>33</td>\n",
              "      <td>158</td>\n",
              "      <td>189</td>\n",
              "      <td>177</td>\n",
              "      <td>179</td>\n",
              "      <td>1474</td>\n",
              "    </tr>\n",
              "    <tr>\n",
              "      <th>GC</th>\n",
              "      <td>0</td>\n",
              "      <td>22</td>\n",
              "      <td>152</td>\n",
              "      <td>144</td>\n",
              "      <td>83</td>\n",
              "      <td>97</td>\n",
              "      <td>996</td>\n",
              "    </tr>\n",
              "    <tr>\n",
              "      <th>PS</th>\n",
              "      <td>159</td>\n",
              "      <td>91</td>\n",
              "      <td>20</td>\n",
              "      <td>3</td>\n",
              "      <td>0</td>\n",
              "      <td>0</td>\n",
              "      <td>546</td>\n",
              "    </tr>\n",
              "    <tr>\n",
              "      <th>PC</th>\n",
              "      <td>7</td>\n",
              "      <td>15</td>\n",
              "      <td>19</td>\n",
              "      <td>33</td>\n",
              "      <td>31</td>\n",
              "      <td>37</td>\n",
              "      <td>284</td>\n",
              "    </tr>\n",
              "    <tr>\n",
              "      <th>DS</th>\n",
              "      <td>0</td>\n",
              "      <td>0</td>\n",
              "      <td>0</td>\n",
              "      <td>0</td>\n",
              "      <td>23</td>\n",
              "      <td>118</td>\n",
              "      <td>282</td>\n",
              "    </tr>\n",
              "    <tr>\n",
              "      <th>PSP</th>\n",
              "      <td>0</td>\n",
              "      <td>0</td>\n",
              "      <td>0</td>\n",
              "      <td>0</td>\n",
              "      <td>15</td>\n",
              "      <td>97</td>\n",
              "      <td>224</td>\n",
              "    </tr>\n",
              "    <tr>\n",
              "      <th>N64</th>\n",
              "      <td>60</td>\n",
              "      <td>9</td>\n",
              "      <td>1</td>\n",
              "      <td>0</td>\n",
              "      <td>0</td>\n",
              "      <td>0</td>\n",
              "      <td>140</td>\n",
              "    </tr>\n",
              "    <tr>\n",
              "      <th>DC</th>\n",
              "      <td>20</td>\n",
              "      <td>8</td>\n",
              "      <td>1</td>\n",
              "      <td>0</td>\n",
              "      <td>0</td>\n",
              "      <td>0</td>\n",
              "      <td>58</td>\n",
              "    </tr>\n",
              "  </tbody>\n",
              "</table>\n",
              "</div>"
            ],
            "text/plain": [
              "Ano         2000  2001  2002  2003  2004  2005  Total\n",
              "Plataforma                                           \n",
              "PS2           82   185   280   256   259   260   2644\n",
              "GBA            1   107   198   150   175   135   1532\n",
              "XB             1    33   158   189   177   179   1474\n",
              "GC             0    22   152   144    83    97    996\n",
              "PS           159    91    20     3     0     0    546\n",
              "PC             7    15    19    33    31    37    284\n",
              "DS             0     0     0     0    23   118    282\n",
              "PSP            0     0     0     0    15    97    224\n",
              "N64           60     9     1     0     0     0    140\n",
              "DC            20     8     1     0     0     0     58"
            ]
          },
          "metadata": {
            "tags": []
          },
          "execution_count": 314
        }
      ]
    },
    {
      "cell_type": "code",
      "metadata": {
        "id": "dgPpxWXPBlDZ",
        "colab_type": "code",
        "outputId": "ed009a9f-a12f-4f45-9fce-bc33b2178e26",
        "colab": {
          "base_uri": "https://localhost:8080/",
          "height": 233
        }
      },
      "source": [
        "# relação de vendas por entre 2000 e 2005\n",
        "vendas_2000_2005=res_2000_2005.groupby('Plataforma')['Vendas Globais'].sum().head(10).sort_values(ascending=False)\n",
        "vendas_2000_2005"
      ],
      "execution_count": 0,
      "outputs": [
        {
          "output_type": "execute_result",
          "data": {
            "text/plain": [
              "Plataforma\n",
              "PS2    967.66\n",
              "GBA    304.78\n",
              "GC     185.58\n",
              "DS     148.86\n",
              "PS     140.54\n",
              "PSP     51.36\n",
              "PC      42.68\n",
              "N64     37.35\n",
              "GB      29.00\n",
              "DC       7.35\n",
              "Name: Vendas Globais, dtype: float64"
            ]
          },
          "metadata": {
            "tags": []
          },
          "execution_count": 317
        }
      ]
    },
    {
      "cell_type": "code",
      "metadata": {
        "id": "q8Xr7_uXCrlS",
        "colab_type": "code",
        "outputId": "e66f7a6c-2ab8-4349-ab7e-a99efa10ecd4",
        "colab": {
          "base_uri": "https://localhost:8080/",
          "height": 390
        }
      },
      "source": [
        "# lançamentos de jogos Plataforma x Ano\n",
        "res_2006_2010 = df[(df.Ano >=2006) & (df.Ano <= 2010)]\n",
        "plataforma_ano = pd.crosstab(res_2006_2010['Plataforma'],res_2006_2010['Ano'])\n",
        "plataforma_ano['Total'] = plataforma_ano.sum(axis=1)\n",
        "plataforma_ano = plataforma_ano.sort_values('Total', ascending=False)\n",
        "plataforma_ano.head(10)"
      ],
      "execution_count": 0,
      "outputs": [
        {
          "output_type": "execute_result",
          "data": {
            "text/html": [
              "<div>\n",
              "<style scoped>\n",
              "    .dataframe tbody tr th:only-of-type {\n",
              "        vertical-align: middle;\n",
              "    }\n",
              "\n",
              "    .dataframe tbody tr th {\n",
              "        vertical-align: top;\n",
              "    }\n",
              "\n",
              "    .dataframe thead th {\n",
              "        text-align: right;\n",
              "    }\n",
              "</style>\n",
              "<table border=\"1\" class=\"dataframe\">\n",
              "  <thead>\n",
              "    <tr style=\"text-align: right;\">\n",
              "      <th>Ano</th>\n",
              "      <th>2006</th>\n",
              "      <th>2007</th>\n",
              "      <th>2008</th>\n",
              "      <th>2009</th>\n",
              "      <th>2010</th>\n",
              "      <th>Total</th>\n",
              "    </tr>\n",
              "    <tr>\n",
              "      <th>Plataforma</th>\n",
              "      <th></th>\n",
              "      <th></th>\n",
              "      <th></th>\n",
              "      <th></th>\n",
              "      <th></th>\n",
              "      <th></th>\n",
              "    </tr>\n",
              "  </thead>\n",
              "  <tbody>\n",
              "    <tr>\n",
              "      <th>DS</th>\n",
              "      <td>202</td>\n",
              "      <td>377</td>\n",
              "      <td>492</td>\n",
              "      <td>405</td>\n",
              "      <td>326</td>\n",
              "      <td>1802</td>\n",
              "    </tr>\n",
              "    <tr>\n",
              "      <th>Wii</th>\n",
              "      <td>44</td>\n",
              "      <td>187</td>\n",
              "      <td>282</td>\n",
              "      <td>325</td>\n",
              "      <td>254</td>\n",
              "      <td>1092</td>\n",
              "    </tr>\n",
              "    <tr>\n",
              "      <th>PS2</th>\n",
              "      <td>259</td>\n",
              "      <td>214</td>\n",
              "      <td>191</td>\n",
              "      <td>96</td>\n",
              "      <td>38</td>\n",
              "      <td>798</td>\n",
              "    </tr>\n",
              "    <tr>\n",
              "      <th>PSP</th>\n",
              "      <td>190</td>\n",
              "      <td>134</td>\n",
              "      <td>100</td>\n",
              "      <td>161</td>\n",
              "      <td>188</td>\n",
              "      <td>773</td>\n",
              "    </tr>\n",
              "    <tr>\n",
              "      <th>X360</th>\n",
              "      <td>93</td>\n",
              "      <td>123</td>\n",
              "      <td>146</td>\n",
              "      <td>173</td>\n",
              "      <td>182</td>\n",
              "      <td>717</td>\n",
              "    </tr>\n",
              "    <tr>\n",
              "      <th>PS3</th>\n",
              "      <td>27</td>\n",
              "      <td>90</td>\n",
              "      <td>139</td>\n",
              "      <td>162</td>\n",
              "      <td>181</td>\n",
              "      <td>599</td>\n",
              "    </tr>\n",
              "    <tr>\n",
              "      <th>PC</th>\n",
              "      <td>52</td>\n",
              "      <td>63</td>\n",
              "      <td>76</td>\n",
              "      <td>109</td>\n",
              "      <td>88</td>\n",
              "      <td>388</td>\n",
              "    </tr>\n",
              "    <tr>\n",
              "      <th>XB</th>\n",
              "      <td>62</td>\n",
              "      <td>3</td>\n",
              "      <td>1</td>\n",
              "      <td>0</td>\n",
              "      <td>0</td>\n",
              "      <td>66</td>\n",
              "    </tr>\n",
              "    <tr>\n",
              "      <th>GBA</th>\n",
              "      <td>39</td>\n",
              "      <td>6</td>\n",
              "      <td>0</td>\n",
              "      <td>0</td>\n",
              "      <td>0</td>\n",
              "      <td>45</td>\n",
              "    </tr>\n",
              "    <tr>\n",
              "      <th>GC</th>\n",
              "      <td>40</td>\n",
              "      <td>4</td>\n",
              "      <td>0</td>\n",
              "      <td>0</td>\n",
              "      <td>0</td>\n",
              "      <td>44</td>\n",
              "    </tr>\n",
              "  </tbody>\n",
              "</table>\n",
              "</div>"
            ],
            "text/plain": [
              "Ano         2006  2007  2008  2009  2010  Total\n",
              "Plataforma                                     \n",
              "DS           202   377   492   405   326   1802\n",
              "Wii           44   187   282   325   254   1092\n",
              "PS2          259   214   191    96    38    798\n",
              "PSP          190   134   100   161   188    773\n",
              "X360          93   123   146   173   182    717\n",
              "PS3           27    90   139   162   181    599\n",
              "PC            52    63    76   109    88    388\n",
              "XB            62     3     1     0     0     66\n",
              "GBA           39     6     0     0     0     45\n",
              "GC            40     4     0     0     0     44"
            ]
          },
          "metadata": {
            "tags": []
          },
          "execution_count": 324
        }
      ]
    },
    {
      "cell_type": "code",
      "metadata": {
        "id": "CRO0BjXKDL53",
        "colab_type": "code",
        "outputId": "1c702559-fc73-47de-903a-8685a36240a4",
        "colab": {
          "base_uri": "https://localhost:8080/",
          "height": 233
        }
      },
      "source": [
        "# relação de vendas por entre 2006 e 2010\n",
        "vendas_2006_2010=res_2006_2010.groupby('Plataforma')['Vendas Globais'].sum().head(10).sort_values(ascending=False)\n",
        "vendas_2006_2010"
      ],
      "execution_count": 0,
      "outputs": [
        {
          "output_type": "execute_result",
          "data": {
            "text/plain": [
              "Plataforma\n",
              "Wii     809.28\n",
              "DS      628.37\n",
              "X360    575.38\n",
              "PS3     491.33\n",
              "PS2     265.33\n",
              "PSP     211.19\n",
              "PC       66.50\n",
              "GC       11.56\n",
              "GBA       8.78\n",
              "DC        0.06\n",
              "Name: Vendas Globais, dtype: float64"
            ]
          },
          "metadata": {
            "tags": []
          },
          "execution_count": 325
        }
      ]
    },
    {
      "cell_type": "code",
      "metadata": {
        "id": "PiyZ4xu6DkM_",
        "colab_type": "code",
        "outputId": "fbd2aca1-967d-42ee-a871-8620c0258326",
        "colab": {
          "base_uri": "https://localhost:8080/",
          "height": 390
        }
      },
      "source": [
        "# lançamentos de jogos Plataforma x Ano\n",
        "res_2011_2016 = df[(df.Ano >=2011) & (df.Ano <= 2016)]\n",
        "plataforma_ano = pd.crosstab(res_2011_2016['Plataforma'],res_2011_2016['Ano'])\n",
        "plataforma_ano['Total'] = plataforma_ano.sum(axis=1)\n",
        "plataforma_ano = plataforma_ano.sort_values('Total', ascending=False)\n",
        "plataforma_ano.head(10)"
      ],
      "execution_count": 0,
      "outputs": [
        {
          "output_type": "execute_result",
          "data": {
            "text/html": [
              "<div>\n",
              "<style scoped>\n",
              "    .dataframe tbody tr th:only-of-type {\n",
              "        vertical-align: middle;\n",
              "    }\n",
              "\n",
              "    .dataframe tbody tr th {\n",
              "        vertical-align: top;\n",
              "    }\n",
              "\n",
              "    .dataframe thead th {\n",
              "        text-align: right;\n",
              "    }\n",
              "</style>\n",
              "<table border=\"1\" class=\"dataframe\">\n",
              "  <thead>\n",
              "    <tr style=\"text-align: right;\">\n",
              "      <th>Ano</th>\n",
              "      <th>2011</th>\n",
              "      <th>2012</th>\n",
              "      <th>2013</th>\n",
              "      <th>2014</th>\n",
              "      <th>2015</th>\n",
              "      <th>2016</th>\n",
              "      <th>Total</th>\n",
              "    </tr>\n",
              "    <tr>\n",
              "      <th>Plataforma</th>\n",
              "      <th></th>\n",
              "      <th></th>\n",
              "      <th></th>\n",
              "      <th></th>\n",
              "      <th></th>\n",
              "      <th></th>\n",
              "      <th></th>\n",
              "    </tr>\n",
              "  </thead>\n",
              "  <tbody>\n",
              "    <tr>\n",
              "      <th>PS3</th>\n",
              "      <td>216</td>\n",
              "      <td>148</td>\n",
              "      <td>127</td>\n",
              "      <td>108</td>\n",
              "      <td>74</td>\n",
              "      <td>32</td>\n",
              "      <td>705</td>\n",
              "    </tr>\n",
              "    <tr>\n",
              "      <th>3DS</th>\n",
              "      <td>116</td>\n",
              "      <td>93</td>\n",
              "      <td>91</td>\n",
              "      <td>79</td>\n",
              "      <td>86</td>\n",
              "      <td>35</td>\n",
              "      <td>500</td>\n",
              "    </tr>\n",
              "    <tr>\n",
              "      <th>X360</th>\n",
              "      <td>206</td>\n",
              "      <td>106</td>\n",
              "      <td>75</td>\n",
              "      <td>65</td>\n",
              "      <td>40</td>\n",
              "      <td>8</td>\n",
              "      <td>500</td>\n",
              "    </tr>\n",
              "    <tr>\n",
              "      <th>PSV</th>\n",
              "      <td>18</td>\n",
              "      <td>54</td>\n",
              "      <td>63</td>\n",
              "      <td>102</td>\n",
              "      <td>113</td>\n",
              "      <td>60</td>\n",
              "      <td>410</td>\n",
              "    </tr>\n",
              "    <tr>\n",
              "      <th>PC</th>\n",
              "      <td>137</td>\n",
              "      <td>61</td>\n",
              "      <td>38</td>\n",
              "      <td>44</td>\n",
              "      <td>50</td>\n",
              "      <td>38</td>\n",
              "      <td>368</td>\n",
              "    </tr>\n",
              "    <tr>\n",
              "      <th>PS4</th>\n",
              "      <td>0</td>\n",
              "      <td>0</td>\n",
              "      <td>16</td>\n",
              "      <td>75</td>\n",
              "      <td>137</td>\n",
              "      <td>107</td>\n",
              "      <td>335</td>\n",
              "    </tr>\n",
              "    <tr>\n",
              "      <th>PSP</th>\n",
              "      <td>139</td>\n",
              "      <td>106</td>\n",
              "      <td>54</td>\n",
              "      <td>10</td>\n",
              "      <td>3</td>\n",
              "      <td>0</td>\n",
              "      <td>312</td>\n",
              "    </tr>\n",
              "    <tr>\n",
              "      <th>XOne</th>\n",
              "      <td>0</td>\n",
              "      <td>0</td>\n",
              "      <td>19</td>\n",
              "      <td>61</td>\n",
              "      <td>79</td>\n",
              "      <td>54</td>\n",
              "      <td>213</td>\n",
              "    </tr>\n",
              "    <tr>\n",
              "      <th>Wii</th>\n",
              "      <td>144</td>\n",
              "      <td>32</td>\n",
              "      <td>12</td>\n",
              "      <td>6</td>\n",
              "      <td>4</td>\n",
              "      <td>0</td>\n",
              "      <td>198</td>\n",
              "    </tr>\n",
              "    <tr>\n",
              "      <th>DS</th>\n",
              "      <td>153</td>\n",
              "      <td>25</td>\n",
              "      <td>9</td>\n",
              "      <td>1</td>\n",
              "      <td>0</td>\n",
              "      <td>0</td>\n",
              "      <td>188</td>\n",
              "    </tr>\n",
              "  </tbody>\n",
              "</table>\n",
              "</div>"
            ],
            "text/plain": [
              "Ano         2011  2012  2013  2014  2015  2016  Total\n",
              "Plataforma                                           \n",
              "PS3          216   148   127   108    74    32    705\n",
              "3DS          116    93    91    79    86    35    500\n",
              "X360         206   106    75    65    40     8    500\n",
              "PSV           18    54    63   102   113    60    410\n",
              "PC           137    61    38    44    50    38    368\n",
              "PS4            0     0    16    75   137   107    335\n",
              "PSP          139   106    54    10     3     0    312\n",
              "XOne           0     0    19    61    79    54    213\n",
              "Wii          144    32    12     6     4     0    198\n",
              "DS           153    25     9     1     0     0    188"
            ]
          },
          "metadata": {
            "tags": []
          },
          "execution_count": 326
        }
      ]
    },
    {
      "cell_type": "code",
      "metadata": {
        "id": "3frPa9z9D3-4",
        "colab_type": "code",
        "outputId": "2e3168b7-8bf1-4ce4-8af5-c508dcfb9fec",
        "colab": {
          "base_uri": "https://localhost:8080/",
          "height": 233
        }
      },
      "source": [
        "# relação de vendas por entre 2006 e 2010\n",
        "vendas_2011_2016=res_2011_2016.groupby('Plataforma')['Vendas Globais'].sum().head(10).sort_values(ascending=False)\n",
        "vendas_2011_2016"
      ],
      "execution_count": 0,
      "outputs": [
        {
          "output_type": "execute_result",
          "data": {
            "text/plain": [
              "Plataforma\n",
              "PS3     458.02\n",
              "PS4     278.07\n",
              "3DS     246.28\n",
              "Wii     100.53\n",
              "PC       95.48\n",
              "WiiU     81.86\n",
              "PSV      61.61\n",
              "DS       41.42\n",
              "PSP      29.16\n",
              "PS2       0.47\n",
              "Name: Vendas Globais, dtype: float64"
            ]
          },
          "metadata": {
            "tags": []
          },
          "execution_count": 327
        }
      ]
    },
    {
      "cell_type": "markdown",
      "metadata": {
        "id": "M94U3axNYm1g",
        "colab_type": "text"
      },
      "source": [
        "#### 4.3) **(20%)** Análise 3 - Correlação entre variáveis\n",
        "\n",
        "O aluno deve apresentar 3 análises de correlação entre variáveis do conjunto de dados trabalhado. Exemplo: Em um conjunto de dados com as informações de temperatura e ocorrência de incêndios, eu gostaria de saber a incidência de correlação entre as duas variáveis.\n",
        "\n"
      ]
    },
    {
      "cell_type": "code",
      "metadata": {
        "id": "DWd6wCloYm1h",
        "colab_type": "code",
        "outputId": "b69d46ff-852c-436d-f158-8f09a4e4c6b4",
        "colab": {
          "base_uri": "https://localhost:8080/",
          "height": 142
        }
      },
      "source": [
        "#Correlação de Unidades Vendidas com quantidade de jogos lançados\n",
        "res_2006_2010[res_2006_2010['Plataforma']=='PS2']['Vendas Globais'].sum()\n",
        "total_J_ps2=res_2006_2010[res_2006_2010['Plataforma']=='PS2']\n",
        "total_J_ps2=total_J_ps2['Plataforma'].count()\n",
        "\n",
        "res_2006_2010[res_2006_2010['Plataforma']=='DS']['Vendas Globais'].sum()\n",
        "total_J_DS=res_2006_2010[res_2006_2010['Plataforma']=='DS']\n",
        "total_J_DS= total_J_DS['Plataforma'].count()\n",
        "\n",
        "res_2006_2010[res_2006_2010['Plataforma']=='Wii']['Vendas Globais'].sum()\n",
        "total_J_wii=res_2006_2010[res_2006_2010['Plataforma']=='Wii']\n",
        "total_J_wii= total_J_wii['Plataforma'].count()\n",
        "\n",
        "uni_vendidas_ps2 = res_2006_2010[res_2006_2010['Plataforma']=='PS2']['Vendas Globais'].sum()\n",
        "uni_vendidas_ds = res_2006_2010[res_2006_2010['Plataforma']=='DS']['Vendas Globais'].sum()\n",
        "uni_vendidas_wii = res_2006_2010[res_2006_2010['Plataforma']=='Wii']['Vendas Globais'].sum()\n",
        "\n",
        "total_variavel = {'Jogos lançados 2000 a 2006':[total_J_ps2,total_J_DS,total_J_wii],\n",
        "                  'Unidades Vendidas':[uni_vendidas_ps2,uni_vendidas_ds,uni_vendidas_wii]}\n",
        "\n",
        "pd.DataFrame(total_variavel,index=['PS2','DS','Wii'])\n",
        "\n"
      ],
      "execution_count": 0,
      "outputs": [
        {
          "output_type": "execute_result",
          "data": {
            "text/html": [
              "<div>\n",
              "<style scoped>\n",
              "    .dataframe tbody tr th:only-of-type {\n",
              "        vertical-align: middle;\n",
              "    }\n",
              "\n",
              "    .dataframe tbody tr th {\n",
              "        vertical-align: top;\n",
              "    }\n",
              "\n",
              "    .dataframe thead th {\n",
              "        text-align: right;\n",
              "    }\n",
              "</style>\n",
              "<table border=\"1\" class=\"dataframe\">\n",
              "  <thead>\n",
              "    <tr style=\"text-align: right;\">\n",
              "      <th></th>\n",
              "      <th>Jogos lançados 2000 a 2006</th>\n",
              "      <th>Unidades Vendidas</th>\n",
              "    </tr>\n",
              "  </thead>\n",
              "  <tbody>\n",
              "    <tr>\n",
              "      <th>PS2</th>\n",
              "      <td>798</td>\n",
              "      <td>265.33</td>\n",
              "    </tr>\n",
              "    <tr>\n",
              "      <th>DS</th>\n",
              "      <td>1802</td>\n",
              "      <td>628.37</td>\n",
              "    </tr>\n",
              "    <tr>\n",
              "      <th>Wii</th>\n",
              "      <td>1092</td>\n",
              "      <td>809.28</td>\n",
              "    </tr>\n",
              "  </tbody>\n",
              "</table>\n",
              "</div>"
            ],
            "text/plain": [
              "     Jogos lançados 2000 a 2006  Unidades Vendidas\n",
              "PS2                         798             265.33\n",
              "DS                         1802             628.37\n",
              "Wii                        1092             809.28"
            ]
          },
          "metadata": {
            "tags": []
          },
          "execution_count": 361
        }
      ]
    },
    {
      "cell_type": "markdown",
      "metadata": {
        "id": "7jU5_2vlYm1n",
        "colab_type": "text"
      },
      "source": [
        "### 5) Conclusões **15%**"
      ]
    },
    {
      "cell_type": "markdown",
      "metadata": {
        "id": "qA9iF-DRYm1o",
        "colab_type": "text"
      },
      "source": [
        "*O que é possível concluir com os dados que você analisou? Se fosse fazer uma apresentação, o que levaria como os maiores destaques e por que?*"
      ]
    },
    {
      "cell_type": "markdown",
      "metadata": {
        "id": "x0B_xHK-Ym1p",
        "colab_type": "text"
      },
      "source": [
        "Em análise da base em anexo podemos concluir que os anos dourados do videgame para vendas foi entre 1995 e 2010, onde as vendas começaram a cair.\n",
        "\n",
        "O Gênero que mais vende games é o de Ação;\n",
        "\n",
        "A console que mais vendeu jogos foi o PS2.\n",
        "\n",
        "A região que mais vende games no mundo é a America do Norte."
      ]
    }
  ]
}